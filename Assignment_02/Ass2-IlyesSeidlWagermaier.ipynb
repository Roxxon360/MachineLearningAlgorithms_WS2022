{
 "cells": [
  {
   "cell_type": "markdown",
   "metadata": {},
   "source": [
    "Ilyes Justin m12001643 <br>\n",
    "Seidl Stefan m11804717 <br>\n",
    "Wagermaier Daniel m01605389"
   ]
  },
  {
   "cell_type": "markdown",
   "metadata": {},
   "source": [
    "# Definition of input files"
   ]
  },
  {
   "cell_type": "code",
   "execution_count": 1,
   "metadata": {
    "collapsed": false,
    "jupyter": {
     "outputs_hidden": false
    }
   },
   "outputs": [],
   "source": [
    "#These filename need to be defined:\n",
    "digits_train_filename = '../data/alldigits.csv'"
   ]
  },
  {
   "cell_type": "markdown",
   "metadata": {},
   "source": [
    "# Your sections ..."
   ]
  },
  {
   "cell_type": "markdown",
   "metadata": {},
   "source": [
    "# Calc1: Read data"
   ]
  },
  {
   "cell_type": "code",
   "execution_count": 2,
   "metadata": {
    "collapsed": false,
    "jupyter": {
     "outputs_hidden": false
    }
   },
   "outputs": [],
   "source": [
    "# --------------Has to be run-------------\n",
    "\n",
    "import numpy as np\n",
    "import pandas as pd\n",
    "from sklearn.preprocessing import StandardScaler\n",
    "from sklearn.model_selection import train_test_split\n",
    "from sklearn.svm import SVC, LinearSVC, NuSVC\n",
    "from sklearn.model_selection import GridSearchCV\n",
    "\n",
    "test_size = 0.3\n",
    "\n",
    "# import Data\n",
    "df = pd.read_csv(digits_train_filename)\n",
    "data = df.to_numpy()\n",
    "scalar = StandardScaler()\n",
    "\n",
    "X = data[:, :-1]\n",
    "y = data[:, -1]\n",
    "\n",
    "# Splitting (no val_set because of cross-validation in gridSearchCV)\n",
    "X_train, X_test, y_train, y_test = train_test_split(X, y, test_size=test_size, random_state=10)\n",
    "\n",
    "# Standardizing (mean and SDD only from train_data)\n",
    "scalar.fit(X_train)\n",
    "X_train = scalar.transform(X_train)\n",
    "X_test = scalar.transform(X_test)\n"
   ]
  },
  {
   "cell_type": "markdown",
   "metadata": {},
   "source": [
    "# Explore"
   ]
  },
  {
   "cell_type": "code",
   "execution_count": 13,
   "metadata": {
    "collapsed": false,
    "jupyter": {
     "outputs_hidden": false
    }
   },
   "outputs": [
    {
     "data": {
      "text/plain": [
       "[<matplotlib.lines.Line2D at 0x1b606015460>]"
      ]
     },
     "execution_count": 13,
     "metadata": {},
     "output_type": "execute_result"
    },
    {
     "data": {
      "image/png": "[encoded data removed]",
      "text/plain": [
       "<Figure size 640x480 with 1 Axes>"
      ]
     },
     "metadata": {},
     "output_type": "display_data"
    }
   ],
   "source": [
    "import matplotlib.pyplot as plt\n",
    "\n",
    "px = digits_train[:,400]\n",
    "px.sort()\n",
    "plt.plot(px)"
   ]
  },
  {
   "cell_type": "markdown",
   "metadata": {},
   "source": [
    "### Support Vector Classification - Hyperparameter Search"
   ]
  },
  {
   "cell_type": "markdown",
   "metadata": {},
   "source": [
    "In order for us to attain the best possible accuracy for each Support Vector Machine Classifier in sklearn, we would need to implement a method where different variations of hyperparameters would all be tested on the classifiers to deliver the most accurate result. An optimal solution to this problem was by using the GridSearchCV function from sklearn. GridSearchCV does an exhaustive search over all the given parameter values for an estimator, which is then further optimized by a cross-validated grid-search. <br>\n",
    "\n",
    "Initially, we planned on using all the parameters for each of the classifiers, but shortly noticed that this was going to prove to be quite a challenge. The problem was, if all parameters were used and each parameter had a list of a minimum of 2 elements, the computational time would become exponentially longer. Especially, after further inspection, we saw that many parameters had high computational costs, like for instance break_ties in SVC(), where the documentation states that the classifier takes drastically longer to compute an estimator. Since many more parameters had similar issues we decided to only keep the essential ones in the classifiers. <br>\n",
    "\n",
    "For SVC() and NuSVC() we used the same parameters, kernel, degree, gamma and coef0, with the exception of C and nu being swapped. All of the kernels were used, asides from precomputed, because the matrix was not squared and the error \"Precomputed matrix must be a square matrix. Input is a 4200x784 matrix.\" was always returned.<br>\n",
    "\n",
    "In LinearSVC() the parameters were penalty, loss, C and intercept_scaling. The rest were deemed to be unnecessary or too computationally expensive. In LinearSVC() max_iter was ultimately set to 1000, because when it was set lower we constantly recieved \"ConvergenceWarning: Liblinear failed to converge, increase the number of iterations.\" and when it was set higher it would take too long to compute. <br>\n",
    "\n",
    "After setting the parameters for GridSearchCV, we waited until the best hyperparameters were found. After that, we created an estimator with best_estimator_ , printed the best possible parameters through best_params and finally printed the estimator's score. <br>\n",
    "\n",
    "NOTICE: We are aware that more precise results are possible, but it would be too computationally expensive and time-consuming to test out all parameters and even more values for C, nu, gamma, coef0, etc. We worked as best we could with the given timeframe to maximize our accuracies and were able to drastically narrow down what the best results were by only using a few parameters per classifier in the GridSearchCV.\n"
   ]
  },
  {
   "cell_type": "code",
   "execution_count": null,
   "metadata": {},
   "outputs": [],
   "source": [
    "# DO NOT RUN THIS, UNLESS YOU HAVE A LOT OF TIME! TAKES VERY LONG TO COMPUTE!\n",
    "\n",
    "parametersSVC = dict(C=(0.001,0.01,0.1,1.0,10.0), # Regularization paramter. Strength of regulaization is inversely proportiional to C. Smaller C => more generalization\n",
    "                     kernel=('linear', 'poly', 'rbf', 'sigmoid'), \n",
    "                     degree=(2,3,4), # only relevant to 'poly'\n",
    "                     gamma=('scale', 'auto', 0.1, 0.01, 0.001, 0.0001), # controls distance of influence of a training point. Low gamma => more points grouped. High gamma => less points grouped; points need to be very close to eachother\n",
    "                     coef0=(0.0,1.0,0.1,0.01,0.001,0.0001)) # relevent to 'poly' and 'sigmoid'. Independent term in kernel function \n",
    "\n",
    "SVM_SVC = GridSearchCV(SVC(), parametersSVC, n_jobs=-1, verbose=5) # n_jobs = -1 means that all processors are used\n",
    "                                                                   # verbose prints the fold, candidate parameter indexes, and starting time of each computation\n",
    "SVM_SVC.fit(X_train, y_train)\n",
    "best_SVC_estimator = SVM_SVC.best_estimator_\n",
    "\n",
    "print(SVM_SVC.best_params_)\n",
    "print(best_SVC_estimator.score(X_test, y_test))\n",
    "\n",
    "print()\n",
    "\n",
    "parametersLinSVC = dict(penalty=('l1','l2'), # norm used in penalization\n",
    "                        loss=('hinge','squared_hinge'), # loss function\n",
    "                        C=(0.001,0.01,0.1,1.0, 10.0), \n",
    "                        intercept_scaling=(0.1,1,5,10,15), # larger intercept_scaling => smaller effect of regularization\n",
    "                        max_iter=[1000]) # max_iter could be set higher, to get rid of warning. Typically, with 10000+ the warning did not come anymore, but takes very long to compute.\n",
    "\n",
    "SVM_LinSVC = GridSearchCV(LinearSVC(), parametersLinSVC, n_jobs=-1, verbose=5)\n",
    "SVM_LinSVC.fit(X_train, y_train)\n",
    "best_LinSVC_estimator = SVM_LinVC.best_estimator_\n",
    "\n",
    "print(SVM_LinSVC.best_params_)\n",
    "print(best_LinSVC_estimator.score(X_test, y_test))\n",
    "\n",
    "print()\n",
    "\n",
    "parametersNuSVC = dict(nu=(0.01,0.05,0.1,0.5), # upper bound on the fraction of margin errors. Interval (0, 1]\n",
    "                       kernel=('linear', 'poly', 'rbf', 'sigmoid'), \n",
    "                       degree=(2,3,4),\n",
    "                       gamma=('scale','auto',10.0,1.0,0.1,0.01,0.001,0.0001),\n",
    "                       coef0=(0.0,1.0,0.1,0.01,0.001,0.0001))\n",
    "\n",
    "# this GridSearchCV would get stuck sometimes and have to be run again\n",
    "SVM_NuSVC = GridSearchCV(NuSVC(), parametersNuSVC, n_jobs=-1, verbose=5)\n",
    "SVM_NuSVC.fit(X_train, y_train)\n",
    "best_NuSVC_estimator = SVM_NuSVC.best_estimator_\n",
    "\n",
    "print(SVM_NuSVC.best_params_)\n",
    "print(best_NuSVC_estimator.score(X_test, y_test))"
   ]
  },
  {
   "cell_type": "markdown",
   "metadata": {},
   "source": [
    "### Neural Network Classification: Hyperparameter Search"
   ]
  },
  {
   "cell_type": "code",
   "execution_count": null,
   "metadata": {},
   "outputs": [],
   "source": [
    "# hier Code vom Stefan"
   ]
  },
  {
   "cell_type": "markdown",
   "metadata": {},
   "source": [
    "# Calc2: Support Vector Machine"
   ]
  },
  {
   "cell_type": "markdown",
   "metadata": {},
   "source": [
    "After running GridSearchCV, we recieved our optimized hyperparameters for each of the SVM Classifiers. We then recreated each of the classifiers with the optimal parameters to return the highest testing and training accuracy attainable."
   ]
  },
  {
   "cell_type": "code",
   "execution_count": 3,
   "metadata": {},
   "outputs": [
    {
     "name": "stdout",
     "output_type": "stream",
     "text": [
      "Support Vector Classifier Testing Accuracy: 94.83%\n",
      "Support Vector Classifier Training Accuracy: 99.95%\n",
      "Linear Support Vector Classifier Testing Accuracy: 89.83%\n",
      "Linear Support Vector Classifier Training Accuracy: 94.71%\n",
      "Nu-Support Vector Classifier Testing Accuracy: 95.22%\n",
      "Nu-Support Vector Classifier Training Accuracy: 99.93%\n"
     ]
    }
   ],
   "source": [
    "# THIS CAN BE RUN. ONLY COMPUTES EACH CLASSFIER ONCE WITH MOST OPTIMAL HYPERPARAMETERS\n",
    "\n",
    "best_SVC = SVC(C = 10, kernel = 'poly', degree = 2, gamma = 'scale', coef0 = 0.1)\n",
    "best_SVC.fit(X_train, y_train)\n",
    "\n",
    "print('Support Vector Classifier Testing Accuracy: ' + str(round(best_SVC.score(X_test, y_test) * 100,2)) + '%')\n",
    "print('Support Vector Classifier Training Accuracy: ' + str(round(best_SVC.score(X_train, y_train) * 100,2)) + '%')\n",
    "\n",
    "best_LinSVC = LinearSVC(C = 0.001, intercept_scaling = 15, loss = 'squared_hinge', max_iter = 1000, penalty = 'l2')\n",
    "best_LinSVC.fit(X_train, y_train)\n",
    "\n",
    "print('Linear Support Vector Classifier Testing Accuracy: ' + str(round(best_LinSVC.score(X_test, y_test) * 100,2)) + '%')\n",
    "print('Linear Support Vector Classifier Training Accuracy: ' + str(round(best_LinSVC.score(X_train, y_train) * 100,2)) + '%')\n",
    "\n",
    "best_NuSVC = NuSVC(nu = 0.05, kernel = 'poly', degree = 3, gamma = 0.01, coef0 = 1.0)\n",
    "best_NuSVC.fit(X_train, y_train)\n",
    "\n",
    "print('Nu-Support Vector Classifier Testing Accuracy: ' + str(round(best_NuSVC.score(X_test, y_test) * 100,2)) + '%')\n",
    "print('Nu-Support Vector Classifier Training Accuracy: ' + str(round(best_NuSVC.score(X_train, y_train) * 100,2)) + '%')"
   ]
  },
  {
   "cell_type": "markdown",
   "metadata": {},
   "source": [
    "# Calc3: Neural Network"
   ]
  },
  {
   "cell_type": "code",
   "execution_count": null,
   "metadata": {},
   "outputs": [],
   "source": [
    "# hier Code vom Stefan"
   ]
  },
  {
   "cell_type": "markdown",
   "metadata": {},
   "source": [
    "# Final classifiers"
   ]
  },
  {
   "cell_type": "code",
   "execution_count": 11,
   "metadata": {
    "collapsed": false,
    "jupyter": {
     "outputs_hidden": false
    }
   },
   "outputs": [],
   "source": [
    "#These classifiers need to be defined:\n",
    "digits_SVM = gnb\n",
    "digits_nn = gnb"
   ]
  }
 ],
 "metadata": {
  "kernelspec": {
   "display_name": "Python 3 (ipykernel)",
   "language": "python",
   "name": "python3"
  },
  "language_info": {
   "codemirror_mode": {
    "name": "ipython",
    "version": 3
   },
   "file_extension": ".py",
   "mimetype": "text/x-python",
   "name": "python",
   "nbconvert_exporter": "python",
   "pygments_lexer": "ipython3",
   "version": "3.9.13"
  },
  "vscode": {
   "interpreter": {
    "hash": "4f09fca1dd3ffa6e83900143bd9a94cd954ee991162dd6798ff9944fa3d49a73"
   }
  }
 },
 "nbformat": 4,
 "nbformat_minor": 4
}
